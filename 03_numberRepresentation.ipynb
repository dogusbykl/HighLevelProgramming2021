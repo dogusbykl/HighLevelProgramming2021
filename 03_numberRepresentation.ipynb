{
 "cells": [
  {
   "cell_type": "markdown",
   "metadata": {},
   "source": [
    "# Integers\n",
    "\n",
    "Integer numbers are represented by N bit words. Python3 allows you to store integers with practically **unlimited precision**, the only limitation comes from the (contiguous) space available in memory.\n",
    "In Python2, N depends on the PC architercture, N=64 in modern computers."
   ]
  },
  {
   "cell_type": "code",
   "execution_count": 1,
   "metadata": {},
   "outputs": [
    {
     "name": "stdout",
     "output_type": "stream",
     "text": [
      "9223372036854775807\n",
      "Is your system a 64 bit one? True\n",
      "9223372036854775808\n"
     ]
    }
   ],
   "source": [
    "# Check the largest integer\n",
    "import sys\n",
    "print(sys.maxsize)\n",
    "\n",
    "# Check also that corresponds to a 64-bit integer\n",
    "print(\"Is your system a 64 bit one?\", 2**63 - 1 == sys.maxsize)\n",
    "\n",
    "# Python 3 doesn't have a limit for integers\n",
    "maxint = sys.maxsize+1\n",
    "print(maxint)"
   ]
  },
  {
   "cell_type": "markdown",
   "metadata": {},
   "source": [
    "## Binary and Hexadecimal representations\n",
    "\n",
    "The common assumption is that numbers (in Python as in all the other languages) are expressed as decimal numbers. Built-in functions allows explicitly to convert from one base to another.  "
   ]
  },
  {
   "cell_type": "markdown",
   "metadata": {},
   "source": [
    "In the binary representation, typically 1 bit ($j$) is dedicated to specifying the sign of the number, and the conversion between binary and decimal representation is:\n",
    "\n",
    "$$d = (-1)^j\\sum_{i=0}^{N-1} \\alpha_i ~ 2^i$$\n",
    "\n",
    "where $\\alpha_i$ are either 0 or 1. \n",
    "$b=\\alpha_{N-1}\\alpha_{N-2}..\\alpha_0$ is the binary representation of the number.\n",
    "\n",
    "Example: an 8-bit integer in binary representation with one bit for the sign:\n",
    "\n",
    "|  j | 6 | 5 | 4 | 3 | 2 | 1 | 0  |\n",
    "|---|---|---|---|---|---|---|---|\n",
    "|  0 | 0 | 0 | 1 | 0 | 1 | 1 | 1  |\n",
    "\n",
    "corresponds to:\n",
    "\n",
    "$$d = (-1)^j\\sum_{i=0}^{N-1} \\alpha_i ~ 2^i = (-1)^{0} [ (1) \\cdot 2^0 + (1) \\cdot 2^1 + (1) \\cdot 2^2 + (0) \\cdot 2^3 + (1) \\cdot 2^4 + (0) \\cdot 2^5 + (0) \\cdot 2^6] = 0 + 1 + 2 + 4 + 16 = 23$$\n"
   ]
  },
  {
   "cell_type": "code",
   "execution_count": 17,
   "metadata": {},
   "outputs": [
    {
     "name": "stdout",
     "output_type": "stream",
     "text": [
      "Binary representation of 23 : 0b10111\n",
      "Hexadecimal representation of 23 : 0x17\n",
      "Decimal representation of 0b10111 : 23\n",
      "Decimal representation of 0x17 : 23\n"
     ]
    }
   ],
   "source": [
    "# an integer in decimal representation\n",
    "a = 23\n",
    "\n",
    "# its binary representation\n",
    "a_bin = bin(a)\n",
    "print('Binary representation of', a, ':', a_bin)\n",
    "\n",
    "# its hexadecimal representation\n",
    "a_hex = hex(a)\n",
    "print('Hexadecimal representation of', a, ':', a_hex)\n",
    "\n",
    "# converting back to integer\n",
    "print('Decimal representation of', a_bin, ':', int(a_bin, 2))\n",
    "print('Decimal representation of', a_hex, ':', int(a_hex, 16))"
   ]
  },
  {
   "cell_type": "markdown",
   "metadata": {},
   "source": [
    "## Bitwise operators"
   ]
  },
  {
   "cell_type": "markdown",
   "metadata": {},
   "source": [
    "### Logical operators"
   ]
  },
  {
   "cell_type": "code",
   "execution_count": 12,
   "metadata": {},
   "outputs": [
    {
     "name": "stdout",
     "output_type": "stream",
     "text": [
      "Bitwise AND  12\n",
      "Bitwise OR   61\n",
      "Bitwise XOR  49\n"
     ]
    }
   ],
   "source": [
    "a = 60           # 60 = 0011 1100 \n",
    "b = 13           # 13 = 0000 1101 \n",
    "\n",
    "c = a & b        # 12 = 0000 1100\n",
    "print(\"Bitwise AND \", c)\n",
    "\n",
    "c = a | b        # 61 = 0011 1101 \n",
    "print(\"Bitwise OR  \", c)\n",
    "\n",
    "c = a ^ b        # 49 = 0011 0001\n",
    "print(\"Bitwise XOR \", c)"
   ]
  },
  {
   "cell_type": "markdown",
   "metadata": {},
   "source": [
    "### Unary operators"
   ]
  },
  {
   "cell_type": "code",
   "execution_count": 13,
   "metadata": {},
   "outputs": [
    {
     "name": "stdout",
     "output_type": "stream",
     "text": [
      "Bitwise NOT  -61\n"
     ]
    }
   ],
   "source": [
    "c = ~a           # -61 = 1100 0011\n",
    "print(\"Bitwise NOT \", c)"
   ]
  },
  {
   "cell_type": "markdown",
   "metadata": {},
   "source": [
    "### Shifts"
   ]
  },
  {
   "cell_type": "code",
   "execution_count": 14,
   "metadata": {},
   "outputs": [
    {
     "name": "stdout",
     "output_type": "stream",
     "text": [
      "Left shift (towards most significant) of two positions  240\n",
      "Right shift (towards least significant) of two positions  15\n"
     ]
    }
   ],
   "source": [
    "c = a << 2       # 240 = 1111 0000\n",
    "print(\"Left shift (towards most significant) of two positions \", c)\n",
    "\n",
    "c = a >> 2       # 15 = 0000 1111\n",
    "print(\"Right shift (towards least significant) of two positions \", c)"
   ]
  },
  {
   "cell_type": "markdown",
   "metadata": {},
   "source": [
    "Link to the python [documentation](https://realpython.com/python-bitwise-operators/)."
   ]
  },
  {
   "cell_type": "markdown",
   "metadata": {},
   "source": [
    "# Floating point numbers\n",
    "\n",
    "Non-integer number **cannot be represented with infinite precision** on a computer. Single precision (also known as *float*) and double precision numbers use 32 and 64 bits respectively. \n",
    "Note that all floating point numbers in python are double precision (64 bits).\n",
    "A standard has been developed by IEEE such that the relative precision (see later) is the same across the whole validity range.\n",
    "\n",
    "The 32 or 64 bits are divided among 3 quantities uniquely characterizing the number:\n",
    "\n",
    "$x_{float} = (-1)^s \\times 1.f \\times 2^{e-bias}$\n",
    "\n",
    "where *s* is the sign, *f* the fractional part of the mantissa and *e* the exponent. In order to get numbers smaller than 1, a constant *bias* term is added to the exponent, such *bias* is typically equal to half of the max value of *e*.\n",
    "The mantissa is defined as:\n",
    "\n",
    "${\\rm mantissa}=1.f=1+m_{n-1}2^{-1}+m_{n-2}2^{-2}+..+m_{0}2^{-n}$\n",
    "\n",
    "where $n$ is the number of bits dedicated to *f* (see below) and $m_i$ are the binary coefficients. \n",
    "\n",
    "Numbers exceeding the maximum allowed value are *overflows* and the calculations involving them provide incorrect answers. Numbers smaller in absolute value than the minimum allowed value are *underflows* and simply set to zero, also in this case incorrect results are yielded.  "
   ]
  },
  {
   "cell_type": "markdown",
   "metadata": {},
   "source": [
    "### Single\n",
    "\n",
    "For single precision floating point numbers, $0\\le e \\le 255$ and $bias=127$. Bits are arranged as follows:\n",
    "\n",
    "|   | *s* | *e* | *f* |\n",
    "|---|---|---|---|\n",
    "| Bit position | 31 | 30-23 | 22-0 |\n",
    "\n",
    "An example is given below:"
   ]
  },
  {
   "cell_type": "code",
   "execution_count": 15,
   "metadata": {},
   "outputs": [
    {
     "data": {
      "text/html": [
       "<img src=\"http://www.dspguide.com/graphics/F_4_2.gif\"/>"
      ],
      "text/plain": [
       "<IPython.core.display.Image object>"
      ]
     },
     "execution_count": 15,
     "metadata": {},
     "output_type": "execute_result"
    }
   ],
   "source": [
    "from IPython.display import Image\n",
    "Image(url='http://www.dspguide.com/graphics/F_4_2.gif')"
   ]
  },
  {
   "cell_type": "markdown",
   "metadata": {},
   "source": [
    "Special values are also possibiles. N.B.: those are not numbers that can be used in the mathematical sense!\n",
    "\n",
    "|   |  conditions | value |\n",
    "|---|---|---|\n",
    "|  $+\\infty$ | s=0, e=255, f=0 | +INF  |\n",
    "|  $-\\infty$ | s=1, e=255, f=0 | -INF  |\n",
    "|  not a number | e=255, f>0  | NaN  |\n",
    "\n",
    "The largest value is obtained for $f\\sim 2$ and $e=254$, i.e. $2\\times2^{127}\\sim 3.4\\times10^{38}$.\n",
    "\n",
    "The value closest to zero is obtained instead for $f=2^{-23}$ and $e=0$, i.e. $2^{-149}\\sim 1.4\\times10^{-45}$.\n"
   ]
  },
  {
   "cell_type": "markdown",
   "metadata": {},
   "source": [
    "### Double\n",
    "\n",
    "For double precision floating point numbers, $0\\le e \\le 2047$ and $bias=1023$. Bits are arranged as follows:\n",
    "\n",
    "|   | *s* | *e* | *f* |\n",
    "|---|---|---|---|\n",
    "| Bit position | 63 | 62-52 | 51-0 |\n",
    "\n",
    "Special values are also possibiles. N.B.: those are not numbers that can be used in the mathematical sense!\n",
    "\n",
    "|   |  conditions | value |\n",
    "|---|---|---|\n",
    "|  $+\\infty$ | s=0, e=2047, f=0 | +INF  |\n",
    "|  $-\\infty$ | s=1, e=2047, f=0 | -INF  |\n",
    "|  not a number | e=2047, f>0  | NaN  |\n",
    "\n",
    "The validity range for double numbers is $2.2^{-308} - 1.8^{308}$\n",
    "\n",
    "Serious scientific calculations almost always requires at least double precision floating point numbers."
   ]
  },
  {
   "cell_type": "markdown",
   "metadata": {},
   "source": [
    "### Floating point numbers on your system\n",
    "\n",
    "Information about the floating point reresentation on your system can be obtained from sys.float_info. Definitions of the stored values are given on the python doc [page](https://docs.python.org/2/library/sys.html#sys.float_info)"
   ]
  },
  {
   "cell_type": "code",
   "execution_count": null,
   "metadata": {},
   "outputs": [],
   "source": [
    "import sys\n",
    "print(sys.float_info)"
   ]
  },
  {
   "cell_type": "markdown",
   "metadata": {},
   "source": [
    "# Accuracy and the perils of calculations with floats\n",
    "\n",
    "\n",
    "Floats can only have a limited number of meaningful decimal places, on the basis of how many bits are allocated for the fractional part of the mantissa: 6-7 decimal places for singles, 15-16 for doubles. In particular this means that calculations involving numbers with more than those decimal places involved do not yield the correct result, simply because the binary representation of those numbers does not allow to store them with sufficient accuracy."
   ]
  },
  {
   "cell_type": "code",
   "execution_count": 16,
   "metadata": {},
   "outputs": [
    {
     "name": "stdout",
     "output_type": "stream",
     "text": [
      "7.00000000000001\n",
      "7.000000000000001\n",
      "7.0\n"
     ]
    }
   ],
   "source": [
    "# Addding an increasingly small number to 7\n",
    "for e in [14, 15, 16]: print (7+1.0*10**-e)"
   ]
  },
  {
   "cell_type": "markdown",
   "metadata": {},
   "source": [
    "It should never been forgotten that computers store numbers in binary format. In the same way it is not possible to express the fraction 1/3 with a finite decimal places, analogously fraction well represented in the decimal base cannot be represented in binary, e.g. 1/10 is the infinitely repeating number:\n",
    "\n",
    "$0.0001100110011001100110011001100110011001100110011...$\n",
    "\n",
    "corresponding to $3602879701896397/2^{55}$ which is close to but not exactly equal to the true value of 1/10 (even though it is even printed to be like that!).\n",
    "Similarly 0.1 is not 1/10, and making calculations assuming that exactly typically yield to wrong results:"
   ]
  },
  {
   "cell_type": "code",
   "execution_count": 18,
   "metadata": {},
   "outputs": [
    {
     "name": "stdout",
     "output_type": "stream",
     "text": [
      "0.1 0.1\n",
      "True\n"
     ]
    },
    {
     "data": {
      "text/plain": [
       "False"
      ]
     },
     "execution_count": 18,
     "metadata": {},
     "output_type": "execute_result"
    }
   ],
   "source": [
    "print (1 / 10, 0.1)\n",
    "\n",
    "# is 1/10 the same of 0.1?\n",
    "print (1 / 10 == 0.1)\n",
    "\n",
    "# but then watch out! Does it work for 0.3, too?\n",
    "0.1 + 0.1 == 0.2\n",
    "0.1 + 0.1 + 0.1 == 0.3"
   ]
  },
  {
   "cell_type": "markdown",
   "metadata": {},
   "source": [
    "A lesson of paramount importance is that you must **never** compare floating point numbers with the \"==\" operator as *what is printed is not what is stored*!\n",
    "\n",
    "The function ```float.hex()``` yield the exact value stored for a floating point number:"
   ]
  },
  {
   "cell_type": "code",
   "execution_count": 6,
   "metadata": {
    "scrolled": true
   },
   "outputs": [
    {
     "name": "stdout",
     "output_type": "stream",
     "text": [
      "3.141592653589793\n",
      "0x1.921fb54442d18p+1\n"
     ]
    }
   ],
   "source": [
    "import math\n",
    "x = math.pi\n",
    "print(x)\n",
    "print(x.hex())"
   ]
  },
  {
   "cell_type": "markdown",
   "metadata": {},
   "source": [
    "There are ways to print floats (e.g. filling data into an output file) controlling the number of decimals:"
   ]
  },
  {
   "cell_type": "code",
   "execution_count": 38,
   "metadata": {},
   "outputs": [
    {
     "name": "stdout",
     "output_type": "stream",
     "text": [
      "3.1415926535898\n",
      "1.00000000000000022\n",
      "1.000000000000000222\n"
     ]
    }
   ],
   "source": [
    "print(format(math.pi, '.13f'))  # give 13 significant digits\n",
    "\n",
    "print('%.17f' % (0.1 * 0.1 * 100)) # give >15 significant digits\n",
    "print('%.18f' % (0.1 * 0.1 * 100))\n",
    "# now repeat trying with >15 digits!"
   ]
  },
  {
   "cell_type": "markdown",
   "metadata": {},
   "source": [
    "There is no bug here, this is simply due to the fact that the mantissa is represented by a limited amount of bits, therefore calculations can only make sense if an appropriate number of decimal digits are concerned:"
   ]
  },
  {
   "cell_type": "code",
   "execution_count": 37,
   "metadata": {},
   "outputs": [
    {
     "name": "stdout",
     "output_type": "stream",
     "text": [
      "Single precision: 1.1920928955078125e-07\n",
      "Double precision: 1.1102230246251565e-16\n"
     ]
    }
   ],
   "source": [
    "# 23 bits are used for f in single precision floating point\n",
    "print(\"Single precision:\", 2**-23)\n",
    "\n",
    "# 53 bits are used for f in double precision floating point\n",
    "print(\"Double precision:\", 2**-53)"
   ]
  },
  {
   "cell_type": "markdown",
   "metadata": {},
   "source": [
    "A typical case is subtraction of numbers very close by in value (e.g. when dealing with spectral frequencies). The same happens with functions evaluated near critical points (see later)"
   ]
  },
  {
   "cell_type": "code",
   "execution_count": 30,
   "metadata": {},
   "outputs": [
    {
     "data": {
      "text/plain": [
       "0.0"
      ]
     },
     "execution_count": 30,
     "metadata": {},
     "output_type": "execute_result"
    }
   ],
   "source": [
    "1 + 6.022e23 - 6.022e23"
   ]
  },
  {
   "cell_type": "markdown",
   "metadata": {},
   "source": [
    "Associative law does not necessarily hold:"
   ]
  },
  {
   "cell_type": "code",
   "execution_count": 31,
   "metadata": {},
   "outputs": [
    {
     "name": "stdout",
     "output_type": "stream",
     "text": [
      "1.0\n",
      "0.0\n"
     ]
    }
   ],
   "source": [
    "print (6.022e23 - 6.022e23 + 1)\n",
    "print (1 + 6.022e23 - 6.022e23)\n"
   ]
  },
  {
   "cell_type": "markdown",
   "metadata": {},
   "source": [
    "Distributive law does not hold"
   ]
  },
  {
   "cell_type": "code",
   "execution_count": 33,
   "metadata": {},
   "outputs": [
    {
     "data": {
      "text/plain": [
       "False"
      ]
     },
     "execution_count": 33,
     "metadata": {},
     "output_type": "execute_result"
    }
   ],
   "source": [
    "import math\n",
    "a = math.exp(1)\n",
    "b = math.pi\n",
    "c = math.sin(1)\n",
    "a*(b + c) == a*b + a*c"
   ]
  },
  {
   "cell_type": "markdown",
   "metadata": {},
   "source": [
    "Also identities after casting large numbers may not yield the expected result"
   ]
  },
  {
   "cell_type": "code",
   "execution_count": 36,
   "metadata": {},
   "outputs": [
    {
     "name": "stdout",
     "output_type": "stream",
     "text": [
      "False\n",
      "287475839859383374\n",
      "2.8747583985938336e+17\n",
      "287475839859383360\n"
     ]
    }
   ],
   "source": [
    "x = 287475839859383374\n",
    "print(x == int(float(x)))\n",
    "print(x)\n",
    "print(float(x))\n",
    "print(int(float(x)))"
   ]
  },
  {
   "cell_type": "markdown",
   "metadata": {},
   "source": [
    "## From numbers to functions: conditioning and stability\n",
    "\n",
    "#### Function conditioning\n",
    "\n",
    "A mathematical function $f(x)$ is well-conditioned if $f(x+\\epsilon)\\simeq f(x)$ for all small perturbations $\\epsilon$.\n",
    "\n",
    "In other words, the function $f(x)$ is **well-conditioned** if the solution varies gradually as the input varies. For a well-conditioned function, small pertubations in the input result in small effects in the output. However, a poorly-conditioned problem only needs some small perturbation to have large effects. For example, inverting a nearly singluar matrix (a matrix whose determinant is close to zero) is a poorly conditioned problem.\n",
    "\n",
    "#### Algorithm stability\n",
    "\n",
    "Suppose we have a computer algorithm $g(x)$ that represents the mathematical function $f(x)$. $g(x)$ is **numerically stable** if $g(x+\\epsilon) \\simeq f(x)$ and it is called **unstable** if large changes in the output are produced. Analyzing an algorithm for stability is more complicated than determining the condition of an expression, even if the algorithm simply evaluates the expression. This is because an algorithm consists of many basic calculations and each one must be analyzed and, due to roundoff error, we must consider the possibility of small errors being introduced in every computed value.\n",
    "\n",
    "Numerically unstable algorithms tend to amplify approximation errors due to computer arithmetic over time. If we used an infinite precision numerical system, stable and unstable alorithms would have the same accuracy. However, as we see below (e.g. variance calculation), when using floating point numbers, algebrically equivalent algorithms can give different results.\n",
    "\n",
    "In general, we need both a well-conditioned problem and an algorihtm with sufficient numerical stabilty to obtain reliably accurate answers. In this case, we can be sure that $g(x) \\simeq f(x)$.\n",
    "\n",
    "In most of the cases, the solution to stability issues is solved by properly redefining the function as in the example above and below."
   ]
  },
  {
   "cell_type": "markdown",
   "metadata": {},
   "source": [
    "1. Example of a poorly conditioned function: the tangent of an angle"
   ]
  },
  {
   "cell_type": "code",
   "execution_count": 39,
   "metadata": {},
   "outputs": [
    {
     "name": "stdout",
     "output_type": "stream",
     "text": [
      "tan(x1) = 61249.00853150303\n",
      "tan(x2) = 158057.9134162482\n",
      "% change in x = 0.0006366263894271296 %\n",
      "% change in tan(x) = 158.05791343536953 %\n"
     ]
    }
   ],
   "source": [
    "import math\n",
    "# Define two numbers x and x + epsilon very close to pi/2\n",
    "x1 = 1.57078\n",
    "x2 = 1.57079\n",
    "# Calculate the tangent of the x1 and x2 angles\n",
    "t1 = math.tan(x1)\n",
    "t2 = math.tan(x2)\n",
    "\n",
    "print ('tan(x1) =', t1)\n",
    "print ('tan(x2) =', t2)\n",
    "print ('% change in x =', 100.0*(x2-x1)/x1, '%')\n",
    "print ('% change in tan(x) =', (100.0*(t2-t1)/t1), '%')"
   ]
  },
  {
   "cell_type": "markdown",
   "metadata": {},
   "source": [
    "2. Example of a numerically unstable algorithm: the limit      $\\lim_{x \\to 0} \\frac{1-\\cos(x)}{x^2}$"
   ]
  },
  {
   "cell_type": "code",
   "execution_count": 42,
   "metadata": {},
   "outputs": [
    {
     "data": {
      "text/plain": [
       "<matplotlib.lines.Line2D at 0x7fb790b1e550>"
      ]
     },
     "execution_count": 42,
     "metadata": {},
     "output_type": "execute_result"
    },
    {
     "data": {
      "image/png": "[encoded data removed]",
      "text/plain": [
       "<Figure size 432x288 with 1 Axes>"
      ]
     },
     "metadata": {
      "needs_background": "light"
     },
     "output_type": "display_data"
    }
   ],
   "source": [
    "# Catastrophic cancellation occurs when subtracitng\n",
    "# two numbers that are very close to one another\n",
    "# Here is another example\n",
    "\n",
    "# We'll see numpy and matplotlib in the next lectures: forget about the technical details, for now\n",
    "import numpy as np\n",
    "import matplotlib.pyplot as plt\n",
    "\n",
    "def f(x):\n",
    "    return (1 - np.cos(x))/(x*x)\n",
    "\n",
    "#x = np.linspace(-4e-1, 4e-1, 1000)\n",
    "x = np.linspace(-4e-8, 4e-8, 1000)\n",
    "plt.plot(x, f(x))\n",
    "plt.axvline(1.1e-8, color='red')"
   ]
  },
  {
   "cell_type": "code",
   "execution_count": 43,
   "metadata": {},
   "outputs": [
    {
     "name": "stdout",
     "output_type": "stream",
     "text": [
      "0.999999999999999888977697537484\n",
      "0.000000000000000111022302462516\n",
      "0.917540\n"
     ]
    }
   ],
   "source": [
    "# We know from L'Hopital's rule that the answer is 0.5 at 0\n",
    "# and should be very close to 0.5 throughout this tiny interval\n",
    "# but errors arisee due to catastrophic cancellation\n",
    "\n",
    "print('%.30f' % np.cos(1.1e-8))\n",
    "print('%.30f' % (1 - np.cos(1.1e-8))) # failure point: the exact answer is 6.05e-17\n",
    "print('%2f' % ((1 - np.cos(1.1e-8))/(1.1e-8*1.1e-8)))"
   ]
  },
  {
   "cell_type": "markdown",
   "metadata": {},
   "source": [
    "Solution: rewrite the function using $\\sin$ instead of $\\cos$: $1-\\cos(x)$ = $2 \\sin^2 (\\frac{x}{2})$"
   ]
  },
  {
   "cell_type": "code",
   "execution_count": 46,
   "metadata": {},
   "outputs": [
    {
     "data": {
      "text/plain": [
       "<matplotlib.lines.Line2D at 0x7fb790eee340>"
      ]
     },
     "execution_count": 46,
     "metadata": {},
     "output_type": "execute_result"
    },
    {
     "data": {
      "image/png": "[encoded data removed]",
      "text/plain": [
       "<Figure size 432x288 with 1 Axes>"
      ]
     },
     "metadata": {
      "needs_background": "light"
     },
     "output_type": "display_data"
    }
   ],
   "source": [
    "# Numerically stable version of funtion using simple trignometry\n",
    "\n",
    "def f1(x):\n",
    "    return 2*np.sin(x/2)**2/(x*x)\n",
    "\n",
    "#x = np.linspace(-4e-1, 4e-1, 1000)\n",
    "x = np.linspace(-4e-8, 4e-8, 1000)\n",
    "plt.plot(x, f1(x))\n",
    "plt.axvline(1.1e-8, color='red')"
   ]
  },
  {
   "cell_type": "markdown",
   "metadata": {},
   "source": [
    "3. Another common example of a numerically unstable algorithm. The stable and unstable version of the variance:\n",
    "\n",
    "$s^2 = \\frac{1}{n-1} \\sum (x-\\bar{x})^2$"
   ]
  },
  {
   "cell_type": "code",
   "execution_count": 54,
   "metadata": {},
   "outputs": [
    {
     "name": "stdout",
     "output_type": "stream",
     "text": [
      "Numpy: 0.08159270487344725\n",
      "Direct: 0.08167350123654138\n",
      "Sum of squares: -140878366.72205004\n",
      "Welford's: 0.0809918814175599\n"
     ]
    }
   ],
   "source": [
    "# direct method\n",
    "# squaring occuring after subtraction\n",
    "def direct_var(x):\n",
    "    n = len(x)\n",
    "    xbar = np.mean(x)\n",
    "    return 1.0/(n-1)*np.sum((x - xbar)**2)\n",
    "\n",
    "# sum of squares method (vectorized version)\n",
    "# pay attention to the subtraction of two large numbers\n",
    "def sum_of_squers_var(x):\n",
    "    n = len(x)\n",
    "    return (1.0/(n*(n-1))*(n*np.sum(x**2) - (np.sum(x))**2))\n",
    "\n",
    "# Welford's method\n",
    "# an optimized method\n",
    "def welford_var(x):\n",
    "    s = 0\n",
    "    m = x[0]\n",
    "    for i in range(1, len(x)):\n",
    "        m += (x[i]-m)/i\n",
    "        s += (x[i]-m)**2\n",
    "    return s/(len(x) - 1)\n",
    "\n",
    "\n",
    "# check the performances with an array \n",
    "# of randomly distributed data around 1e12\n",
    "x_ = np.random.uniform(0, 1, int(1e3))\n",
    "x = 1e12 + x_\n",
    "# correct answer from a purpose-built function in numpy\n",
    "print(\"Numpy:\", np.var(x_))\n",
    "print(\"Direct:\", direct_var(x))\n",
    "print(\"Sum of squares:\", sum_of_squers_var(x))\n",
    "print(\"Welford's:\", welford_var(x))"
   ]
  },
  {
   "cell_type": "markdown",
   "metadata": {},
   "source": [
    "4. The example of the Likelihood: $\\mathcal{L} = \\prod_{i=0}^{N} Poisson(x, \\mu)$"
   ]
  },
  {
   "cell_type": "code",
   "execution_count": 51,
   "metadata": {},
   "outputs": [
    {
     "name": "stdout",
     "output_type": "stream",
     "text": [
      "[0.97350051 0.24360588 0.7477332  0.25033637 0.61816897 0.9139028\n",
      " 0.66008621 0.22497769 0.0308656  0.69666843 0.98129359 0.92640925\n",
      " 0.77881287 0.69130131 0.5037725  0.71673239 0.56888426 0.97633587\n",
      " 0.61335549 0.44196808 0.36987416 0.61756988 0.54588211 0.67633361\n",
      " 0.96634192 0.0482039  0.22079546 0.23810403 0.56420048 0.8185875\n",
      " 0.5163697  0.32316221 0.90708752 0.29704534 0.17254219 0.38226745\n",
      " 0.08524745 0.64969018 0.09477294 0.02498045 0.84350855 0.47924986\n",
      " 0.4568687  0.75630855 0.37669286 0.32263094 0.5808429  0.1235362\n",
      " 0.0164719  0.51240352 0.54118935 0.78176963 0.4601096  0.96680992\n",
      " 0.22020289 0.3675375  0.71693964 0.40834242 0.70727763 0.59144779\n",
      " 0.34630997 0.22138181 0.8208309  0.80204124 0.94299179 0.28351484\n",
      " 0.91593174 0.15346908 0.21846649 0.99436758 0.12146389 0.39757449\n",
      " 0.72282695 0.10653588 0.58002987 0.61930914 0.55428801 0.58447396\n",
      " 0.71925477 0.54240749 0.71531896 0.15550295 0.74123239 0.54106168\n",
      " 0.83996587 0.09491165 0.07289189 0.44100046 0.30376428 0.78876883\n",
      " 0.30838031 0.0564327  0.31278596 0.83241322 0.21251141 0.06163887\n",
      " 0.921351   0.39656439 0.3290449  0.80399337 0.78670668 0.19514809\n",
      " 0.28402659 0.24039409 0.49194193 0.96511164 0.35204005 0.95608794\n",
      " 0.47253519 0.36377271 0.41173729 0.09201621 0.54607101 0.54131028\n",
      " 0.95924297 0.11598032 0.21099298 0.67059009 0.55184787 0.78332646\n",
      " 0.61944956 0.05235003 0.18191378 0.27296481 0.68956985 0.50488795\n",
      " 0.36429661 0.20210784 0.29031611 0.2159968  0.99245296 0.90874832\n",
      " 0.08039436 0.92592543 0.85745293 0.78815115 0.38527814 0.64769129\n",
      " 0.21374917 0.5794357  0.18777525 0.70911838 0.98048373 0.44259588\n",
      " 0.78899493 0.40566131 0.71341493 0.59577102 0.26862247 0.15551291\n",
      " 0.36721632 0.92485124 0.29175234 0.61349563 0.14549362 0.00180354\n",
      " 0.83404175 0.98505805 0.02968602 0.63401342 0.53064704 0.32119478\n",
      " 0.23018605 0.03610021 0.71722433 0.81459131 0.33391021 0.89094934\n",
      " 0.23143483 0.81142112 0.32453836 0.41095332 0.85573105 0.2180996\n",
      " 0.35050929 0.01792815 0.80908146 0.29075957 0.88457431 0.85518342\n",
      " 0.62650238 0.36490089 0.56527035 0.58729643 0.43017598 0.46241187\n",
      " 0.26066412 0.158777   0.48242597 0.14902102 0.69733678 0.13725516\n",
      " 0.67325384 0.74157519 0.2148839  0.51842855 0.34095164 0.46259848\n",
      " 0.29234891 0.33037529 0.90235064 0.06560761 0.76079734 0.39477425\n",
      " 0.65692451 0.59982999 0.74435648 0.35129861 0.03019893 0.52814593\n",
      " 0.797682   0.674767   0.72224734 0.89513895 0.21748388 0.05231042\n",
      " 0.21182036 0.71699556 0.86709052 0.51208602 0.4235058  0.02686349\n",
      " 0.46293079 0.66793843 0.45472671 0.2524431  0.54017948 0.00297461\n",
      " 0.08876637 0.77889147 0.37244267 0.37279219 0.77202385 0.53237104\n",
      " 0.40607265 0.03137526 0.40608494 0.11134689 0.98941495 0.10534781\n",
      " 0.26221461 0.93211196 0.44997488 0.8896775  0.93190881 0.15411554\n",
      " 0.88594589 0.43607761 0.61307908 0.39757918 0.68179475 0.62236854\n",
      " 0.70920221 0.05795043 0.09362633 0.62262708 0.40051737 0.17285219\n",
      " 0.26010016 0.36035828 0.34477538 0.53181517 0.28202963 0.14730709\n",
      " 0.28411552 0.68287915 0.20757846 0.0173085  0.48441579 0.47799861\n",
      " 0.35195968 0.97590353 0.26067631 0.69778124 0.20908257 0.36705719\n",
      " 0.49485301 0.91752456 0.4942236  0.84662621 0.46831234 0.65324218\n",
      " 0.65838402 0.58742656 0.23159896 0.19212142 0.17674988 0.99660602\n",
      " 0.79600545 0.16375393 0.32380167 0.36653921 0.06772182 0.99367437\n",
      " 0.9224651  0.24470773 0.79097264 0.24723082 0.0579495  0.36708303\n",
      " 0.33040639 0.35190912 0.428841   0.02802769 0.25389778 0.86024652\n",
      " 0.01375522 0.86020672 0.02265668 0.94784592 0.91242723 0.50711845\n",
      " 0.94673634 0.96185375 0.102989   0.89166458 0.27978166 0.28770926\n",
      " 0.39972451 0.79405806 0.52936153 0.58980484 0.36399915 0.49017904\n",
      " 0.92510522 0.71247715 0.12447849 0.89468225 0.44133728 0.78780243\n",
      " 0.39156061 0.43798861 0.0237866  0.52985588 0.62163796 0.57571642\n",
      " 0.77123642 0.71033952 0.17831073 0.36922228 0.55111313 0.36135978\n",
      " 0.58431706 0.84047078 0.56706733 0.03957968 0.29685403 0.54851714\n",
      " 0.12238019 0.71749688 0.74523263 0.80442936 0.13930908 0.85210789\n",
      " 0.6898053  0.64159691 0.62583157 0.7243283  0.86104841 0.22687832\n",
      " 0.85256396 0.69687339 0.68654942 0.52270547 0.5662609  0.75140692\n",
      " 0.62253627 0.81189086 0.02500638 0.87204581 0.74514321 0.00986794\n",
      " 0.81122371 0.20506728 0.94830507 0.12700185 0.83349034 0.5096638\n",
      " 0.32112884 0.92710629 0.51143583 0.65585928 0.96373671 0.25351846\n",
      " 0.64449938 0.41852324 0.72969267 0.28784128 0.22186838 0.64045504\n",
      " 0.37019681 0.46207837 0.8074605  0.64233176 0.83421967 0.89954472\n",
      " 0.29555869 0.44435967 0.99498742 0.56006379 0.47513875 0.73800409\n",
      " 0.02746157 0.30645563 0.46331246 0.03395507 0.84073892 0.87294314\n",
      " 0.0876283  0.60792026 0.269259   0.2421807  0.44995733 0.7114116\n",
      " 0.51119076 0.65071447 0.57634198 0.02688301 0.89014239 0.7526654\n",
      " 0.36098238 0.10338927 0.32934301 0.64329283 0.65475481 0.72948154\n",
      " 0.746035   0.60380599 0.184661   0.94282163 0.68974918 0.19087137\n",
      " 0.35496855 0.57394735 0.65857418 0.93674664 0.07090736 0.71528543\n",
      " 0.38657532 0.74760343 0.56808833 0.17363727 0.56918336 0.20524096\n",
      " 0.87598359 0.82563321 0.09592454 0.06680256 0.06191404 0.48283046\n",
      " 0.30990807 0.33191765 0.58111909 0.14902753 0.64618122 0.69221778\n",
      " 0.30673492 0.78771914 0.82376871 0.6864065  0.02502371 0.41330904\n",
      " 0.73923448 0.93265336 0.07438431 0.38770667 0.63217214 0.68058373\n",
      " 0.70725731 0.26565465 0.24732851 0.34781875 0.30649272 0.65415172\n",
      " 0.74654464 0.16059933 0.47888961 0.63069628 0.96278244 0.54838587\n",
      " 0.78789711 0.75579502 0.0140596  0.77331087 0.5266333  0.73595713\n",
      " 0.53742219 0.47959507 0.0956484  0.79075048 0.52250421 0.82946859\n",
      " 0.29297534 0.53895846 0.55452077 0.23237065 0.74317103 0.46185042\n",
      " 0.5364282  0.88545452 0.04152592 0.6289622  0.5317658  0.68008342\n",
      " 0.65636729 0.62927281 0.11129618 0.57954883 0.36920785 0.92938113\n",
      " 0.72989182 0.90702295 0.36491645 0.09009581 0.34174899 0.61812624\n",
      " 0.95942262 0.09033835 0.13878917 0.91828726 0.5596275  0.57992473\n",
      " 0.54976877 0.30028117 0.16661741 0.71547603 0.69888685 0.12152112\n",
      " 0.83425104 0.53451099 0.66889051 0.0273002  0.55697112 0.23721166\n",
      " 0.5875752  0.59208073 0.29830991 0.91605704 0.72354623 0.13789478\n",
      " 0.94182678 0.03945138 0.55612369 0.54370785 0.19694654 0.54405712\n",
      " 0.14956637 0.20198469 0.28018054 0.62359029 0.52874009 0.11977967\n",
      " 0.7014779  0.29297548 0.8403476  0.12225754 0.15323323 0.3134361\n",
      " 0.21166604 0.9521546  0.681171   0.25705909 0.00725365 0.03436239\n",
      " 0.13992221 0.91603409 0.38915048 0.89504294 0.10200555 0.02006412\n",
      " 0.5053328  0.41876752 0.88884576 0.72882879 0.78607997 0.84895994\n",
      " 0.90444354 0.85559537 0.80607215 0.1139844  0.21487264 0.50345619\n",
      " 0.40647513 0.19386492 0.0241697  0.68963795 0.48803779 0.50114503\n",
      " 0.73308254 0.92867181 0.69790069 0.69664421 0.61588791 0.69638269\n",
      " 0.22864968 0.10781824 0.39363408 0.86879076 0.15989896 0.4598758\n",
      " 0.70547703 0.90740925 0.26340356 0.62244108 0.01881286 0.34226677\n",
      " 0.09128448 0.37194623 0.17546499 0.67175746 0.72542499 0.31308309\n",
      " 0.13656657 0.03271378 0.78387253 0.17954302 0.60902604 0.20568792\n",
      " 0.97650586 0.91510957 0.76572404 0.76736953 0.76089331 0.34246018\n",
      " 0.22080197 0.95347463 0.28874544 0.81175628 0.36793657 0.39578084\n",
      " 0.02518041 0.54021715 0.37688381 0.96062055 0.30874043 0.95714039\n",
      " 0.26078067 0.98279735 0.21712777 0.90026911 0.91489816 0.77433042\n",
      " 0.1767311  0.23476953 0.1853461  0.43757431 0.05832825 0.11950378\n",
      " 0.16205193 0.26609435 0.28189026 0.60205472 0.74751514 0.85441698\n",
      " 0.64473574 0.45025312 0.17139775 0.02559639 0.43908652 0.54880764\n",
      " 0.88061905 0.90599844 0.01652241 0.91595903 0.55405719 0.63394449\n",
      " 0.89237087 0.98009984 0.12282247 0.48409976 0.58453104 0.04197632\n",
      " 0.6153148  0.29019582 0.25467245 0.165041   0.92649585 0.50768398\n",
      " 0.19716084 0.7487738  0.89879229 0.09774038 0.91798592 0.41233878\n",
      " 0.5903876  0.58214835 0.99211102 0.08593055 0.29115095 0.36156021\n",
      " 0.48323578 0.50962428 0.47370308 0.89385281 0.16720378 0.22615811\n",
      " 0.8612691  0.29432712 0.40363132 0.78806035 0.12834574 0.3850286\n",
      " 0.48024073 0.37533979 0.74976009 0.1576399  0.87733621 0.80119982\n",
      " 0.74369464 0.18872311 0.90145039 0.93174733 0.67744072 0.19541022\n",
      " 0.587731   0.99213721 0.21135523 0.97821166 0.9303649  0.74602011\n",
      " 0.95649677 0.61989982 0.17260894 0.69556868 0.11404564 0.30167887\n",
      " 0.56925956 0.08407314 0.92340241 0.44604784 0.23795353 0.00546289\n",
      " 0.07789965 0.96093206 0.6188095  0.49085565 0.12422331 0.65115045\n",
      " 0.68152388 0.29584229 0.98811138 0.55617617 0.42605088 0.32261819\n",
      " 0.62703968 0.1321961  0.94102579 0.60144549 0.72320024 0.62387652\n",
      " 0.57165307 0.01806603 0.93510462 0.71028123 0.84118678 0.23062466\n",
      " 0.20637306 0.95610304 0.40737741 0.66381527 0.05683815 0.58819687\n",
      " 0.88216283 0.12524596 0.57230112 0.94471195 0.81958533 0.0883566\n",
      " 0.14794034 0.79263365 0.84151423 0.12709221 0.43100772 0.64228283\n",
      " 0.67215251 0.68977864 0.12077678 0.26864891 0.31064547 0.14143772\n",
      " 0.20219843 0.7506862  0.47060713 0.98158098 0.85322302 0.38307782\n",
      " 0.79138216 0.48806559 0.50261276 0.33682291 0.8553401  0.15252676\n",
      " 0.4062357  0.53538314 0.58184613 0.43009265 0.16475131 0.66474693\n",
      " 0.79275658 0.24595997 0.67283303 0.82505064 0.46731357 0.61824509\n",
      " 0.62771266 0.39806963 0.85362527 0.85754487 0.60756945 0.2842517\n",
      " 0.26601552 0.17386438 0.34640796 0.12966915 0.20538977 0.14460711\n",
      " 0.53233445 0.68411558 0.0954486  0.13989389 0.72136353 0.0489243\n",
      " 0.31558514 0.65178338 0.64881751 0.20161591 0.74409017 0.98091816\n",
      " 0.81394908 0.18922692 0.42708979 0.93723054 0.36545181 0.4525493\n",
      " 0.74621336 0.10968183 0.66712863 0.15171074 0.3543545  0.00597969\n",
      " 0.40280786 0.96668203 0.12570243 0.91160584 0.9683029  0.9942962\n",
      " 0.63823868 0.33298306 0.52041417 0.90249229 0.38351502 0.79897414\n",
      " 0.68556193 0.74081579 0.13475774 0.02641824 0.66318271 0.23614376\n",
      " 0.18655789 0.55065992 0.87956609 0.17278056 0.40710488 0.33065884\n",
      " 0.64003572 0.84095998 0.77365443 0.12724429 0.88151982 0.73782111\n",
      " 0.52336575 0.19780207 0.41078428 0.1821219  0.95965244 0.6564693\n",
      " 0.73753469 0.83042367 0.52338093 0.04546763 0.32111734 0.5482791\n",
      " 0.30689739 0.61145591 0.8784456  0.75747378 0.9947943  0.12473647\n",
      " 0.88510154 0.37558361 0.3010427  0.58966989 0.34682634 0.14201543\n",
      " 0.19300588 0.67217366 0.17896026 0.14387367 0.70910354 0.27457467\n",
      " 0.96736626 0.53660631 0.35944189 0.02073138 0.82777729 0.29685717\n",
      " 0.75275075 0.0836406  0.17571833 0.73221514 0.14170292 0.26726951\n",
      " 0.48644896 0.76913118 0.08739675 0.1369709  0.95419714 0.51643502\n",
      " 0.37292945 0.85891921 0.75979568 0.58446637 0.58325974 0.70867599\n",
      " 0.55072846 0.75746094 0.78448721 0.21269756 0.74417672 0.77392941\n",
      " 0.03686397 0.26436325 0.31914698 0.7053211  0.60595054 0.72885965\n",
      " 0.6983852  0.94004044 0.62479387 0.28146755 0.29126337 0.53091529\n",
      " 0.7865887  0.82153875 0.94607667 0.9225903  0.36188998 0.19097767\n",
      " 0.13517418 0.06348229 0.10523367 0.09224103 0.59187998 0.04812282\n",
      " 0.7629956  0.91904266 0.90121024 0.78289113 0.19643062 0.95833495\n",
      " 0.62249791 0.85048579 0.74858996 0.47476056 0.74717102 0.89425582\n",
      " 0.39311396 0.04823523 0.1488424  0.77410475 0.52522754 0.13877595\n",
      " 0.31840033 0.10022032 0.46192541 0.70557149 0.29669217 0.92766673\n",
      " 0.41646616 0.05690377 0.47310522 0.86151084 0.53031872 0.1928129\n",
      " 0.82513696 0.92035891 0.94374253 0.62923517 0.34364982 0.19468217\n",
      " 0.04301882 0.98486199 0.79200667 0.22445027 0.07519386 0.71029828\n",
      " 0.49744993 0.6970741  0.78766127 0.27006375]\n",
      "L = 0.0\n",
      "log L = -973.7131205561134\n"
     ]
    }
   ],
   "source": [
    "# loss of precision can be a problem when calculating Likelihoods\n",
    "probs = np.random.random(1000) # Generating 1000 random numbers between 0 and 1, as if they were probabilities\n",
    "print(probs)\n",
    "print(\"L =\", np.prod(probs))\n",
    "\n",
    "# when multiplying lots of small numbers, work in log space\n",
    "print(\"log L =\", np.sum(np.log(probs)))"
   ]
  },
  {
   "cell_type": "markdown",
   "metadata": {},
   "source": [
    "#### Summary:\n",
    "\n",
    "- Well-/ill-Conditioned refers to the problem; Stable/Unstable refers to an algorithm or numerical process.\n",
    "- If the problem is well-conditioned then there is a stable way to solve it.\n",
    "- If the problem is ill-conditioned then there is no reliable way to solve it in a stable way.\n",
    "- Mixing roundoff-error with an unstable process is a recipe for disaster.\n",
    "- With exact arithmetic (no roundoff-error), stability is not a concern."
   ]
  },
  {
   "cell_type": "code",
   "execution_count": null,
   "metadata": {},
   "outputs": [],
   "source": []
  }
 ],
 "metadata": {
  "kernelspec": {
   "display_name": "Python 3",
   "language": "python",
   "name": "python3"
  },
  "language_info": {
   "codemirror_mode": {
    "name": "ipython",
    "version": 3
   },
   "file_extension": ".py",
   "mimetype": "text/x-python",
   "name": "python",
   "nbconvert_exporter": "python",
   "pygments_lexer": "ipython3",
   "version": "3.8.8"
  }
 },
 "nbformat": 4,
 "nbformat_minor": 2
}
